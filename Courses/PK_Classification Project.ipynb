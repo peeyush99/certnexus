{
 "cells": [
  {
   "cell_type": "markdown",
   "metadata": {},
   "source": [
    "# Import software libraries"
   ]
  },
  {
   "cell_type": "code",
   "execution_count": 86,
   "metadata": {},
   "outputs": [
    {
     "name": "stdout",
     "output_type": "stream",
     "text": [
      "Libraries used in this project:\n",
      "- Python 3.7.6 | packaged by conda-forge | (default, Mar 23 2020, 23:03:20) \n",
      "[GCC 7.3.0]\n",
      "- NumPy 1.19.2\n",
      "- pandas 1.1.3\n",
      "- Matplotlib 3.3.2\n",
      "- Seaborn 0.11.0\n",
      "- scikit-learn 0.23.2\n",
      "- XGBoost 1.3.3\n"
     ]
    }
   ],
   "source": [
    "# Import required libraries.\n",
    "import sys                                                  # Read system parameters.\n",
    "import numpy as np                                          # Work with multi-dimensional arrays.\n",
    "import pandas as pd                                         # Manipulate and analyze data.\n",
    "import matplotlib                                           # Create and format charts.\n",
    "import matplotlib.pyplot as plt  \n",
    "import seaborn as sns                                       # Make charting easier.\n",
    "import sklearn                                              # Train and evaluate machine learning models.\n",
    "from sklearn.model_selection import train_test_split, \\\n",
    "                                    learning_curve, \\\n",
    "                                    cross_val_score\n",
    "from sklearn.preprocessing import MinMaxScaler\n",
    "from sklearn.linear_model import LogisticRegression\n",
    "from sklearn.ensemble import RandomForestClassifier \n",
    "from sklearn.metrics import accuracy_score, \\\n",
    "                            confusion_matrix, \\\n",
    "                            classification_report, \\\n",
    "                            scorer, \\\n",
    "                            f1_score, \\\n",
    "                            recall_score, \\\n",
    "                            precision_score, \\\n",
    "                            roc_auc_score, \\\n",
    "                            plot_roc_curve, \\\n",
    "                            plot_precision_recall_curve, \\\n",
    "                            plot_confusion_matrix\n",
    "from sklearn.dummy import DummyClassifier\n",
    "import xgboost                                              # Build gradient boosting models.\n",
    "from xgboost import XGBClassifier\n",
    "import pickle                                               # Save Python objects as binary files.\n",
    "from collections import Counter\n",
    "import warnings                                             # Suppress warnings.\n",
    "warnings.filterwarnings('ignore')\n",
    "\n",
    "# Ensure results are reproducible.\n",
    "np.random.seed(1)\n",
    "\n",
    "# Summarize software libraries used.\n",
    "print('Libraries used in this project:')\n",
    "print('- Python {}'.format(sys.version))\n",
    "print('- NumPy {}'.format(np.__version__))\n",
    "print('- pandas {}'.format(pd.__version__))\n",
    "print('- Matplotlib {}'.format(matplotlib.__version__))\n",
    "print('- Seaborn {}'.format(sns.__version__))\n",
    "print('- scikit-learn {}'.format(sklearn.__version__))\n",
    "print('- XGBoost {}'.format(xgboost.__version__))"
   ]
  },
  {
   "cell_type": "markdown",
   "metadata": {},
   "source": [
    "# Read and examine the data"
   ]
  },
  {
   "cell_type": "code",
   "execution_count": 87,
   "metadata": {},
   "outputs": [
    {
     "data": {
      "text/html": [
       "<div>\n",
       "<style scoped>\n",
       "    .dataframe tbody tr th:only-of-type {\n",
       "        vertical-align: middle;\n",
       "    }\n",
       "\n",
       "    .dataframe tbody tr th {\n",
       "        vertical-align: top;\n",
       "    }\n",
       "\n",
       "    .dataframe thead th {\n",
       "        text-align: right;\n",
       "    }\n",
       "</style>\n",
       "<table border=\"1\" class=\"dataframe\">\n",
       "  <thead>\n",
       "    <tr style=\"text-align: right;\">\n",
       "      <th></th>\n",
       "      <th>frequency</th>\n",
       "      <th>recency</th>\n",
       "      <th>tenure</th>\n",
       "      <th>monetary_value</th>\n",
       "      <th>number_unique_items</th>\n",
       "      <th>churned</th>\n",
       "    </tr>\n",
       "  </thead>\n",
       "  <tbody>\n",
       "    <tr>\n",
       "      <th>u12747</th>\n",
       "      <td>6.0</td>\n",
       "      <td>367.0</td>\n",
       "      <td>369.0</td>\n",
       "      <td>39.19</td>\n",
       "      <td>3</td>\n",
       "      <td>True</td>\n",
       "    </tr>\n",
       "    <tr>\n",
       "      <th>u12748</th>\n",
       "      <td>41.0</td>\n",
       "      <td>365.0</td>\n",
       "      <td>369.0</td>\n",
       "      <td>12.01</td>\n",
       "      <td>9</td>\n",
       "      <td>False</td>\n",
       "    </tr>\n",
       "    <tr>\n",
       "      <th>u12749</th>\n",
       "      <td>2.0</td>\n",
       "      <td>127.0</td>\n",
       "      <td>130.0</td>\n",
       "      <td>22.28</td>\n",
       "      <td>2</td>\n",
       "      <td>True</td>\n",
       "    </tr>\n",
       "    <tr>\n",
       "      <th>u1282</th>\n",
       "      <td>0.0</td>\n",
       "      <td>0.0</td>\n",
       "      <td>326.0</td>\n",
       "      <td>0.00</td>\n",
       "      <td>1</td>\n",
       "      <td>False</td>\n",
       "    </tr>\n",
       "    <tr>\n",
       "      <th>u12822</th>\n",
       "      <td>0.0</td>\n",
       "      <td>0.0</td>\n",
       "      <td>87.0</td>\n",
       "      <td>0.00</td>\n",
       "      <td>1</td>\n",
       "      <td>True</td>\n",
       "    </tr>\n",
       "  </tbody>\n",
       "</table>\n",
       "</div>"
      ],
      "text/plain": [
       "        frequency  recency  tenure  monetary_value  number_unique_items  \\\n",
       "u12747        6.0    367.0   369.0           39.19                    3   \n",
       "u12748       41.0    365.0   369.0           12.01                    9   \n",
       "u12749        2.0    127.0   130.0           22.28                    2   \n",
       "u1282         0.0      0.0   326.0            0.00                    1   \n",
       "u12822        0.0      0.0    87.0            0.00                    1   \n",
       "\n",
       "        churned  \n",
       "u12747     True  \n",
       "u12748    False  \n",
       "u12749     True  \n",
       "u1282     False  \n",
       "u12822     True  "
      ]
     },
     "execution_count": 87,
     "metadata": {},
     "output_type": "execute_result"
    }
   ],
   "source": [
    "# Read the data.\n",
    "customer_data = pd.read_pickle('../Projects/data/customer_data.pickle')\n",
    "\n",
    "\n",
    "# Preview the first five rows of the data.\n",
    "customer_data.head(5)"
   ]
  },
  {
   "cell_type": "code",
   "execution_count": 88,
   "metadata": {},
   "outputs": [
    {
     "name": "stdout",
     "output_type": "stream",
     "text": [
      "<class 'pandas.core.frame.DataFrame'>\n",
      "Index: 2130 entries, u12747 to u18283\n",
      "Data columns (total 6 columns):\n",
      " #   Column               Non-Null Count  Dtype  \n",
      "---  ------               --------------  -----  \n",
      " 0   frequency            2130 non-null   float64\n",
      " 1   recency              2130 non-null   float64\n",
      " 2   tenure               2130 non-null   float64\n",
      " 3   monetary_value       2130 non-null   float64\n",
      " 4   number_unique_items  2130 non-null   int64  \n",
      " 5   churned              2130 non-null   bool   \n",
      "dtypes: bool(1), float64(4), int64(1)\n",
      "memory usage: 101.9+ KB\n"
     ]
    }
   ],
   "source": [
    "# Check the structure of the data.\n",
    "customer_data.info()"
   ]
  },
  {
   "cell_type": "markdown",
   "metadata": {},
   "source": [
    "# Prepare the data"
   ]
  },
  {
   "cell_type": "code",
   "execution_count": 89,
   "metadata": {},
   "outputs": [
    {
     "data": {
      "text/plain": [
       "False    0.647887\n",
       "True     0.352113\n",
       "Name: churned, dtype: float64"
      ]
     },
     "execution_count": 89,
     "metadata": {},
     "output_type": "execute_result"
    }
   ],
   "source": [
    "# Define the target variable and get the count of each value in the variable.\n",
    "#churned is our target variable\n",
    "target_data = customer_data.churned\n",
    "target_data.value_counts(normalize=True)"
   ]
  },
  {
   "cell_type": "code",
   "execution_count": 90,
   "metadata": {},
   "outputs": [],
   "source": [
    "# Split the data into target and features.\n",
    "features=customer_data.drop(['churned'], axis=1)"
   ]
  },
  {
   "cell_type": "code",
   "execution_count": 91,
   "metadata": {},
   "outputs": [
    {
     "name": "stdout",
     "output_type": "stream",
     "text": [
      "Training data features: (1491, 5)\n",
      "Training data target: (1491,)\n"
     ]
    }
   ],
   "source": [
    "# Split the dataset into separate training and testing sets.\n",
    "\n",
    "X_train, X_test, y_train, y_test = train_test_split(features,\n",
    "                                                   target_data,\n",
    "                                                   test_size=0.3)\n",
    "\n",
    "\n",
    "\n",
    "\n",
    "# Get the shape of both the training dataset and the test dataset.\n",
    "\n",
    "print('Training data features:', X_train.shape)\n",
    "print('Training data target:', y_train.shape)"
   ]
  },
  {
   "cell_type": "code",
   "execution_count": 92,
   "metadata": {},
   "outputs": [
    {
     "name": "stdout",
     "output_type": "stream",
     "text": [
      "The count of values in the target variable i.e.churned Counter({False: 414, True: 225})\n"
     ]
    }
   ],
   "source": [
    "# Use the Counter library to get the count of each value in the target variable (test data).\n",
    "print('The count of values in the target variable i.e.\\\n",
    "churned', Counter(y_test))\n"
   ]
  },
  {
   "cell_type": "markdown",
   "metadata": {},
   "source": [
    "# Train a logistic regression model"
   ]
  },
  {
   "cell_type": "code",
   "execution_count": 93,
   "metadata": {},
   "outputs": [
    {
     "name": "stdout",
     "output_type": "stream",
     "text": [
      "Maximum : 0.0\n",
      "Maximum : 1.0\n"
     ]
    }
   ],
   "source": [
    "# Normalize the training data.\n",
    "norm = MinMaxScaler().fit(X_train)\n",
    "\n",
    "X_train_norm = norm.transform(X_train)\n",
    "\n",
    "print('Maximum :', np.min(X_train_norm))\n",
    "print('Maximum :', np.max(X_train_norm))"
   ]
  },
  {
   "cell_type": "code",
   "execution_count": 94,
   "metadata": {},
   "outputs": [
    {
     "data": {
      "text/plain": [
       "LogisticRegression()"
      ]
     },
     "execution_count": 94,
     "metadata": {},
     "output_type": "execute_result"
    }
   ],
   "source": [
    "# Create a LogisticRegression() model and fit it on the scaled training data.\n",
    "logreg = LogisticRegression()\n",
    "\n",
    "logreg.fit(X_train_norm, y_train)"
   ]
  },
  {
   "cell_type": "code",
   "execution_count": 95,
   "metadata": {},
   "outputs": [
    {
     "name": "stdout",
     "output_type": "stream",
     "text": [
      "The count of each values predicted by logistic regression : Counter({True: 636, False: 3})\n"
     ]
    }
   ],
   "source": [
    "# Make predictions on the test data.\n",
    "\n",
    "logreg_y_pred = logreg.predict(X_test)\n",
    "\n",
    "# Get a count of each prediction value.\n",
    "\n",
    "print('The count of each values predicted \\\n",
    "by logistic regression :', Counter(logreg_y_pred))"
   ]
  },
  {
   "cell_type": "markdown",
   "metadata": {},
   "source": [
    "# Perform a quick evaluation of the logistic regression model"
   ]
  },
  {
   "cell_type": "code",
   "execution_count": 96,
   "metadata": {},
   "outputs": [
    {
     "data": {
      "text/plain": [
       "0.3536776212832551"
      ]
     },
     "execution_count": 96,
     "metadata": {},
     "output_type": "execute_result"
    }
   ],
   "source": [
    "# Obtain the accuracy of the model's predictions.\n",
    "accuracy_score(y_test, logreg_y_pred)"
   ]
  },
  {
   "cell_type": "code",
   "execution_count": 97,
   "metadata": {},
   "outputs": [
    {
     "name": "stdout",
     "output_type": "stream",
     "text": [
      "              precision    recall  f1-score   support\n",
      "\n",
      "       False       0.67      0.00      0.01       414\n",
      "        True       0.35      1.00      0.52       225\n",
      "\n",
      "    accuracy                           0.35       639\n",
      "   macro avg       0.51      0.50      0.26       639\n",
      "weighted avg       0.56      0.35      0.19       639\n",
      "\n"
     ]
    }
   ],
   "source": [
    "# Use the classification_report() function to get a table of additional metric scores.\n",
    "\n",
    "print(classification_report(y_test, logreg_y_pred))"
   ]
  },
  {
   "cell_type": "markdown",
   "metadata": {},
   "source": [
    "# Train a random forest model"
   ]
  },
  {
   "cell_type": "code",
   "execution_count": 98,
   "metadata": {},
   "outputs": [
    {
     "data": {
      "text/plain": [
       "RandomForestClassifier()"
      ]
     },
     "execution_count": 98,
     "metadata": {},
     "output_type": "execute_result"
    }
   ],
   "source": [
    "# Create a RandomForestClassifier() model and fit it on the scaled training data.\n",
    "rf = RandomForestClassifier()\n",
    "rf.fit(X_train_norm, y_train)"
   ]
  },
  {
   "cell_type": "code",
   "execution_count": 99,
   "metadata": {},
   "outputs": [
    {
     "name": "stdout",
     "output_type": "stream",
     "text": [
      "Count of each prediction:  Counter({False: 639})\n"
     ]
    }
   ],
   "source": [
    "# Make predictions on the test data.\n",
    "rf_y_pred = rf.predict(X_test)\n",
    "\n",
    "\n",
    "# Get a count of each prediction value.\n",
    "print('Count of each prediction: ', Counter(rf_y_pred))\n"
   ]
  },
  {
   "cell_type": "markdown",
   "metadata": {},
   "source": [
    "# Perform a quick evaluation of the logistic regression model"
   ]
  },
  {
   "cell_type": "code",
   "execution_count": 100,
   "metadata": {},
   "outputs": [
    {
     "data": {
      "text/plain": [
       "0.647887323943662"
      ]
     },
     "execution_count": 100,
     "metadata": {},
     "output_type": "execute_result"
    }
   ],
   "source": [
    "# Obtain the accuracy of the model's predictions.\n",
    "accuracy_score(y_test, rf_y_pred)"
   ]
  },
  {
   "cell_type": "code",
   "execution_count": 101,
   "metadata": {},
   "outputs": [
    {
     "name": "stdout",
     "output_type": "stream",
     "text": [
      "              precision    recall  f1-score   support\n",
      "\n",
      "       False       0.65      1.00      0.79       414\n",
      "        True       0.00      0.00      0.00       225\n",
      "\n",
      "    accuracy                           0.65       639\n",
      "   macro avg       0.32      0.50      0.39       639\n",
      "weighted avg       0.42      0.65      0.51       639\n",
      "\n"
     ]
    }
   ],
   "source": [
    "# Use the classification_report() function to get a table of additional metric scores.\n",
    "print(classification_report(y_test, rf_y_pred))"
   ]
  },
  {
   "cell_type": "markdown",
   "metadata": {},
   "source": [
    "# Compare evaluation metrics for each model"
   ]
  },
  {
   "cell_type": "code",
   "execution_count": 102,
   "metadata": {},
   "outputs": [],
   "source": [
    "# List will hold model objects.\n",
    "\n",
    "models = []\n",
    "\n",
    "# DummyClassifier() used as a baseline algorithm.\n",
    "\n",
    "models.append(('Dummy Classifier', DummyClassifier(strategy = 'stratified')))\n",
    "\n",
    "# Logistic Regression model.\n",
    "\n",
    "models.append(('Logistic Regression', LogisticRegression()))\n",
    "\n",
    "# Random Forest model.\n",
    "\n",
    "models.append(('Random Forest', RandomForestClassifier()))\n",
    "\n",
    "# XGBoost model.\n",
    "\n",
    "models.append(('XGBoost', XGBClassifier(eval_metric = 'logloss', n_jobs = 1)))"
   ]
  },
  {
   "cell_type": "code",
   "execution_count": 103,
   "metadata": {},
   "outputs": [],
   "source": [
    "# List will hold dictionaries of model scores.\n",
    "\n",
    "scoring_df = []\n",
    "\n",
    "# Train each model in the list and output multiple scores for each model.\n",
    "\n",
    "for name, model in models:\n",
    "    if name in ['Logistic Regression']:\n",
    "        X_train_1 = X_train_norm\n",
    "    else:\n",
    "        X_train_1 = X_train\n",
    "    \n",
    "    model.fit(X_train_1, y_train)\n",
    "    \n",
    "    y_pred = model.predict(X_test)\n",
    "\n",
    "    # Calcualte the evaluation metrics for the model.\n",
    "    \n",
    "    accuracy = accuracy_score(y_test, y_pred)\n",
    "    f1 = f1_score(y_test, y_pred)\n",
    "    recall = recall_score(y_test, y_pred)\n",
    "    precision = precision_score(y_test, y_pred)\n",
    "    auc = roc_auc_score(y_test, y_pred)\n",
    "\n",
    "    scoring_dict = {'Model': name,\n",
    "                    'Accuracy': round(accuracy, 4), \n",
    "                    'F1 Score': round(f1, 4), \n",
    "                    'Precision' : round(precision, 4), \n",
    "                    'Recall' : round(recall, 4), \n",
    "                    'AUC' : round(auc ,4), \n",
    "                   }\n",
    "    \n",
    "    scoring_df.append(scoring_dict)"
   ]
  },
  {
   "cell_type": "code",
   "execution_count": 104,
   "metadata": {},
   "outputs": [
    {
     "data": {
      "text/plain": [
       "[{'Model': 'Dummy Classifier',\n",
       "  'Accuracy': 0.4992,\n",
       "  'F1 Score': 0.2889,\n",
       "  'Precision': 0.2889,\n",
       "  'Recall': 0.2889,\n",
       "  'AUC': 0.4512},\n",
       " {'Model': 'Logistic Regression',\n",
       "  'Accuracy': 0.3537,\n",
       "  'F1 Score': 0.5203,\n",
       "  'Precision': 0.3522,\n",
       "  'Recall': 0.9956,\n",
       "  'AUC': 0.5002},\n",
       " {'Model': 'Random Forest',\n",
       "  'Accuracy': 0.579,\n",
       "  'F1 Score': 0.2788,\n",
       "  'Precision': 0.3514,\n",
       "  'Recall': 0.2311,\n",
       "  'AUC': 0.4996},\n",
       " {'Model': 'XGBoost',\n",
       "  'Accuracy': 0.5712,\n",
       "  'F1 Score': 0.2789,\n",
       "  'Precision': 0.3419,\n",
       "  'Recall': 0.2356,\n",
       "  'AUC': 0.4946}]"
      ]
     },
     "execution_count": 104,
     "metadata": {},
     "output_type": "execute_result"
    }
   ],
   "source": [
    "scoring_df"
   ]
  },
  {
   "cell_type": "code",
   "execution_count": 105,
   "metadata": {
    "scrolled": false
   },
   "outputs": [
    {
     "data": {
      "text/html": [
       "<div>\n",
       "<style scoped>\n",
       "    .dataframe tbody tr th:only-of-type {\n",
       "        vertical-align: middle;\n",
       "    }\n",
       "\n",
       "    .dataframe tbody tr th {\n",
       "        vertical-align: top;\n",
       "    }\n",
       "\n",
       "    .dataframe thead th {\n",
       "        text-align: right;\n",
       "    }\n",
       "</style>\n",
       "<table border=\"1\" class=\"dataframe\">\n",
       "  <thead>\n",
       "    <tr style=\"text-align: right;\">\n",
       "      <th></th>\n",
       "      <th>Model</th>\n",
       "      <th>Accuracy</th>\n",
       "      <th>F1 Score</th>\n",
       "      <th>Precision</th>\n",
       "      <th>Recall</th>\n",
       "      <th>AUC</th>\n",
       "    </tr>\n",
       "  </thead>\n",
       "  <tbody>\n",
       "    <tr>\n",
       "      <th>2</th>\n",
       "      <td>Random Forest</td>\n",
       "      <td>0.5790</td>\n",
       "      <td>0.2788</td>\n",
       "      <td>0.3514</td>\n",
       "      <td>0.2311</td>\n",
       "      <td>0.4996</td>\n",
       "    </tr>\n",
       "    <tr>\n",
       "      <th>3</th>\n",
       "      <td>XGBoost</td>\n",
       "      <td>0.5712</td>\n",
       "      <td>0.2789</td>\n",
       "      <td>0.3419</td>\n",
       "      <td>0.2356</td>\n",
       "      <td>0.4946</td>\n",
       "    </tr>\n",
       "    <tr>\n",
       "      <th>0</th>\n",
       "      <td>Dummy Classifier</td>\n",
       "      <td>0.4992</td>\n",
       "      <td>0.2889</td>\n",
       "      <td>0.2889</td>\n",
       "      <td>0.2889</td>\n",
       "      <td>0.4512</td>\n",
       "    </tr>\n",
       "    <tr>\n",
       "      <th>1</th>\n",
       "      <td>Logistic Regression</td>\n",
       "      <td>0.3537</td>\n",
       "      <td>0.5203</td>\n",
       "      <td>0.3522</td>\n",
       "      <td>0.9956</td>\n",
       "      <td>0.5002</td>\n",
       "    </tr>\n",
       "  </tbody>\n",
       "</table>\n",
       "</div>"
      ],
      "text/plain": [
       "                 Model  Accuracy  F1 Score  Precision  Recall     AUC\n",
       "2        Random Forest    0.5790    0.2788     0.3514  0.2311  0.4996\n",
       "3              XGBoost    0.5712    0.2789     0.3419  0.2356  0.4946\n",
       "0     Dummy Classifier    0.4992    0.2889     0.2889  0.2889  0.4512\n",
       "1  Logistic Regression    0.3537    0.5203     0.3522  0.9956  0.5002"
      ]
     },
     "execution_count": 105,
     "metadata": {},
     "output_type": "execute_result"
    }
   ],
   "source": [
    "# Create a DataFrame from scoring_df.\n",
    "scoring_df = pd.DataFrame(scoring_df)\n",
    "\n",
    "# Sort the DataFrame by accuracy score (descending), then print it.\n",
    "scoring_df.sort_values(by = 'Accuracy', ascending = False)"
   ]
  },
  {
   "cell_type": "markdown",
   "metadata": {},
   "source": [
    "# Begin evaluating the best model"
   ]
  },
  {
   "cell_type": "code",
   "execution_count": 106,
   "metadata": {},
   "outputs": [
    {
     "data": {
      "text/plain": [
       "RandomForestClassifier()"
      ]
     },
     "execution_count": 106,
     "metadata": {},
     "output_type": "execute_result"
    }
   ],
   "source": [
    "# Retrain the model with the highest accuracy score.\n",
    "#randomforest model has the highest acuuracy score, so \n",
    "\n",
    "# Create a RandomForestClassifier() model and fit it on the scaled training data.\n",
    "rf = RandomForestClassifier()\n",
    "rf.fit(X_train_norm, y_train)"
   ]
  },
  {
   "cell_type": "code",
   "execution_count": 107,
   "metadata": {},
   "outputs": [
    {
     "name": "stdout",
     "output_type": "stream",
     "text": [
      "Count of each prediction:  Counter({False: 639})\n"
     ]
    }
   ],
   "source": [
    "# Make predictions on the test data.\n",
    "rf_y_pred = rf.predict(X_test)\n",
    "\n",
    "\n",
    "# Get a count of each prediction value.\n",
    "print('Count of each prediction: ', Counter(rf_y_pred))\n"
   ]
  },
  {
   "cell_type": "code",
   "execution_count": 108,
   "metadata": {},
   "outputs": [
    {
     "data": {
      "image/png": "[encoded data removed]",
      "text/plain": [
       "<Figure size 432x288 with 1 Axes>"
      ]
     },
     "metadata": {
      "needs_background": "light"
     },
     "output_type": "display_data"
    }
   ],
   "source": [
    "# Plot a ROC curve.\n",
    "\n",
    "plot_roc_curve(rf, X_test, y_test)\n",
    "plt.show()"
   ]
  },
  {
   "cell_type": "markdown",
   "metadata": {},
   "source": [
    "# Generate a confusion matrix of the best model"
   ]
  },
  {
   "cell_type": "code",
   "execution_count": 109,
   "metadata": {},
   "outputs": [
    {
     "data": {
      "text/plain": [
       "array([[414,   0],\n",
       "       [225,   0]])"
      ]
     },
     "execution_count": 109,
     "metadata": {},
     "output_type": "execute_result"
    }
   ],
   "source": [
    "# Generate a confusion matrix.\n",
    "confusion_matrix(y_test, rf_y_pred)"
   ]
  },
  {
   "cell_type": "code",
   "execution_count": 110,
   "metadata": {},
   "outputs": [
    {
     "data": {
      "image/png": "[encoded data removed]",
      "text/plain": [
       "<Figure size 432x288 with 2 Axes>"
      ]
     },
     "metadata": {
      "needs_background": "light"
     },
     "output_type": "display_data"
    }
   ],
   "source": [
    "# Plot the confusion matrix.\n",
    "plot_confusion_matrix(rf,\n",
    "                     X_test,\n",
    "                     y_test,\n",
    "                     cmap = plt.cm.Blues,\n",
    "                     normalize = 'true')\n",
    "plt.show()"
   ]
  },
  {
   "cell_type": "markdown",
   "metadata": {},
   "source": [
    "# Generate a feature importance plot for the best model"
   ]
  },
  {
   "cell_type": "code",
   "execution_count": 111,
   "metadata": {},
   "outputs": [],
   "source": [
    "# This function generates a feature importance plot on a bar chart.\n",
    "\n",
    "def feature_importance_plot(model, X_train, n):\n",
    "    \"\"\"Plots feature importance. This only works for random forest and XGBoost models.\"\"\"\n",
    "    \n",
    "    plt.figure(figsize=(8, 5))  # Set figure size.\n",
    "    feat_importances = pd.Series(model.feature_importances_,\n",
    "                                 index = X_train.columns)\n",
    "    feat_importances.nlargest(n).plot(kind = 'barh')\n",
    "    plt.title(f'Top {n} Features')\n",
    "    plt.show()"
   ]
  },
  {
   "cell_type": "code",
   "execution_count": 124,
   "metadata": {},
   "outputs": [
    {
     "data": {
      "image/png": "[encoded data removed]",
      "text/plain": [
       "<Figure size 576x360 with 1 Axes>"
      ]
     },
     "metadata": {
      "needs_background": "light"
     },
     "output_type": "display_data"
    }
   ],
   "source": [
    "# Plot the feature importances.\n",
    "\n",
    "feature_importance_plot(rf, X_train, 10)"
   ]
  },
  {
   "cell_type": "markdown",
   "metadata": {},
   "source": [
    "# Plot a learning curve for the best model"
   ]
  },
  {
   "cell_type": "code",
   "execution_count": null,
   "metadata": {},
   "outputs": [],
   "source": [
    "# This function generates and plots a learning curve.\n",
    "\n",
    "def plot_learning_curves(model, X_train, y_train):\n",
    "    \"\"\"Plots learning curves for model validation.\"\"\"\n",
    "    \n",
    "    plt.figure(figsize=(5, 5))  # Set figure size.\n",
    "    train_sizes, train_scores, test_scores = learning_curve(model,\n",
    "                                                            X_train,\n",
    "                                                            y_train,\n",
    "                                                            cv = 5,  # Number of folds in cross-validation.\n",
    "                                                            scoring = 'accuracy',  # Evaluation metric.\n",
    "                                                            n_jobs = 1,\n",
    "                                                            shuffle = True,\n",
    "                                                            train_sizes = np.linspace(0.01, 1.0, 5))  # 5 different sizes of the training set.\n",
    "\n",
    "    # Create means and standard deviations of training set scores.\n",
    "    \n",
    "    train_mean = np.mean(train_scores, axis = 1)\n",
    "    train_std = np.std(train_scores, axis = 1)\n",
    "\n",
    "    # Create means and standard deviations of test set scores.\n",
    "    \n",
    "    test_mean = np.mean(test_scores, axis = 1)\n",
    "    test_std = np.std(test_scores, axis = 1)\n",
    "\n",
    "    # Draw lines.\n",
    "    \n",
    "    plt.plot(train_sizes, train_mean, '--', color = '#111111', label = 'Training score')\n",
    "    plt.plot(train_sizes, test_mean, color = '#111111', label = 'Cross-validation score')\n",
    "    \n",
    "    # Create plot.\n",
    "    \n",
    "    plt.title('Learning Curves')\n",
    "    plt.xlabel('Training Set Size'), plt.ylabel('Accuracy'), plt.legend(loc = 'best')\n",
    "    plt.tight_layout()\n",
    "    \n",
    "    plt.show()"
   ]
  },
  {
   "cell_type": "code",
   "execution_count": null,
   "metadata": {},
   "outputs": [],
   "source": [
    "# Call the function to plot learning curves for the best model.\n",
    "\n",
    "plot_learning_curves(rf, X_train_norm, y_train)"
   ]
  },
  {
   "cell_type": "markdown",
   "metadata": {},
   "source": [
    "# Save the best model"
   ]
  },
  {
   "cell_type": "code",
   "execution_count": null,
   "metadata": {},
   "outputs": [],
   "source": [
    "# Save the best model as a pickle file named best_classification_model.pickle.\n",
    "pickle.dump(rf, open('rf_classifier.pickle', 'wb'))"
   ]
  },
  {
   "cell_type": "code",
   "execution_count": null,
   "metadata": {},
   "outputs": [],
   "source": []
  }
 ],
 "metadata": {
  "kernelspec": {
   "display_name": "Python 3",
   "language": "python",
   "name": "python3"
  },
  "language_info": {
   "codemirror_mode": {
    "name": "ipython",
    "version": 3
   },
   "file_extension": ".py",
   "mimetype": "text/x-python",
   "name": "python",
   "nbconvert_exporter": "python",
   "pygments_lexer": "ipython3",
   "version": "3.7.6"
  }
 },
 "nbformat": 4,
 "nbformat_minor": 4
}
